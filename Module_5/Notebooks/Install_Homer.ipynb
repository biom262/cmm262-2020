{
 "cells": [
  {
   "cell_type": "markdown",
   "metadata": {},
   "source": [
    "Check out the homer [website](http://homer.salk.edu/homer/download.html). \n",
    "\n",
    "Right click on their download file called configureHomer.pl and copy the link address.\n",
    "\n",
    "    http://homer.ucsd.edu/homer/configureHomer.pl\n",
    "    \n",
    "make a homer folder in your software directory:\n",
    "\n",
    "    mkdir -p ~/software/homer\n",
    "    \n",
    "Move into the directory and put the file in there\n",
    "\n",
    "    cd ~/software/homer\n",
    "    \n",
    "    wget http://homer.ucsd.edu/homer/configureHomer.pl\n",
    "    \n",
    "Then run the install. If you read the documentation, you will notice that the command to install the program is:\n",
    "\n",
    "    perl configureHomer.pl -install \n",
    "    \n",
    "    perl configureHomer.pl -install mm9\n",
    "    \n",
    "Now we didn't use anaconda to install this, so the executibles are not in the path (because they are not in our anaconda bin). Let's add the homer executibles to our path too for easy access.\n",
    "\n",
    "    vi ~/.bashrc\n",
    "    \n",
    "As instructed by Homer, add this line at the bottom of your .bashrc:\n",
    "\n",
    "    PATH=$PATH:/home/ucsd-train##/software/homer/.//bin/\n",
    "    \n",
    "Source your bashrc and check if it worked.\n",
    "\n",
    "If you read the stuff that comes up on your screen while installing HOMER, you might notice that it is looking for a program called blat that is not installed. We need that too, so let's install it.\n",
    "\n",
    "    conda install -c bioconda blat\n",
    "    \n",
    "    conda install -c bioconda weblogo=2.8.2\n",
    "    "
   ]
  },
  {
   "cell_type": "code",
   "execution_count": null,
   "metadata": {
    "collapsed": true
   },
   "outputs": [],
   "source": []
  }
 ],
 "metadata": {
  "kernelspec": {
   "display_name": "Python 2",
   "language": "python",
   "name": "python2"
  },
  "language_info": {
   "codemirror_mode": {
    "name": "ipython",
    "version": 2
   },
   "file_extension": ".py",
   "mimetype": "text/x-python",
   "name": "python",
   "nbconvert_exporter": "python",
   "pygments_lexer": "ipython2",
   "version": "2.7.13"
  }
 },
 "nbformat": 4,
 "nbformat_minor": 0
}
